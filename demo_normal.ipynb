{
 "metadata": {
  "language_info": {
   "codemirror_mode": {
    "name": "ipython",
    "version": 3
   },
   "file_extension": ".py",
   "mimetype": "text/x-python",
   "name": "python",
   "nbconvert_exporter": "python",
   "pygments_lexer": "ipython3",
   "version": "3.8.5-final"
  },
  "orig_nbformat": 2,
  "kernelspec": {
   "name": "python3",
   "display_name": "Python 3",
   "language": "python"
  }
 },
 "nbformat": 4,
 "nbformat_minor": 2,
 "cells": [
  {
   "source": [
    "# Análises estatísticas para gestão de processos\n",
    "\n",
    "Este notebook foi desenvolvido por [Paulo Araujo](mailto:paulo@visiumlabs.com.br) e tem por objetivo demonstrar a diferença de se trabalhar com uma função de distribuição para modelamento de um sistema a fim de se realizar análises estratégicas do mesmo."
   ],
   "cell_type": "markdown",
   "metadata": {}
  },
  {
   "source": [
    "## Pacotes do Python\n",
    "\n",
    "Neste exemplo utilizaremos a biblioteca [Numpy](https://numpy.org) para geração de números aleatórios e cálculos estatísticos."
   ],
   "cell_type": "markdown",
   "metadata": {}
  },
  {
   "cell_type": "code",
   "execution_count": 5,
   "metadata": {},
   "outputs": [],
   "source": [
    "import numpy as np"
   ]
  },
  {
   "source": [
    "Definindo algumas variáveis de controle do processo."
   ],
   "cell_type": "markdown",
   "metadata": {}
  },
  {
   "cell_type": "code",
   "execution_count": 6,
   "metadata": {},
   "outputs": [],
   "source": [
    "HORAS = 24 * 30\n",
    "OBSERVACOES = [10,100,1000]\n",
    "MEDIA = 0.1\n",
    "DESVP = 0.02\n",
    "LIM_INF = 0.02\n",
    "LIM_SUP = 0.18\n",
    "SEED = 0"
   ]
  },
  {
   "source": [
    "Como estamos trabalhando com uma função de distribuição, nosso modelo passa a ser um modelo estocástico. Portanto, para avaliarmos o processo é necessário simular aleatoriamente várias vezes um mesmo cenário. Nesse exemplo, poderemos verificar as diferenças estatísticas obtidas rodando o cenário 10, 100 e 1000 vezes."
   ],
   "cell_type": "markdown",
   "metadata": {}
  },
  {
   "cell_type": "code",
   "execution_count": 7,
   "metadata": {},
   "outputs": [],
   "source": [
    "# Gerando amostras e calculando a produtividade\n",
    "# em termos dos valores médios de cada amostra\n",
    "P = np.zeros((2,len(OBSERVACOES)))\n",
    "for i,obs in enumerate(OBSERVACOES):\n",
    "    # Array para guardar números observados\n",
    "    N = np.zeros((obs,1))\n",
    "    for j in range(obs):\n",
    "        # Ajustando a semente do gerador de números aleatórios\n",
    "        SEED += 1\n",
    "        np.random.seed(SEED)\n",
    "        # Gerando muitos números aleatórios\n",
    "        s = np.random.normal(MEDIA,DESVP,(int(HORAS//MEDIA * 1.5),))\n",
    "        # Procedimento para garantir que apenas tempos\n",
    "        # dentro de um intervalo pré-definido\n",
    "        c = np.logical_and(s >= LIM_INF, s <= LIM_SUP)\n",
    "        while not np.all(c):\n",
    "            d = c.shape[0] - np.count_nonzero(c)\n",
    "            s[c == False] = np.random.normal(MEDIA,DESVP,(d,))\n",
    "            c = np.logical_and(s >= LIM_INF, s <= LIM_SUP)\n",
    "        # Calculando a produtividade\n",
    "        prod = (np.cumsum(s)<=HORAS).argmin()\n",
    "        # Armazenando estatísticas do experimento\n",
    "        N[j,:] = prod\n",
    "    # Armazenando estatísticas finais de todas as observações\n",
    "    P[:,i] = np.array([np.mean(N),np.std(N)])"
   ]
  },
  {
   "source": [
    "Imprimindo os resultados."
   ],
   "cell_type": "markdown",
   "metadata": {}
  },
  {
   "cell_type": "code",
   "execution_count": 8,
   "metadata": {},
   "outputs": [
    {
     "output_type": "stream",
     "name": "stdout",
     "text": [
      "Número de observações: 10 => Produtividade Média: 7205.8 => Desvio-padrão: 22.85957129956728\nNúmero de observações: 100 => Produtividade Média: 7197.4 => Desvio-padrão: 15.974354447050436\nNúmero de observações: 1000 => Produtividade Média: 7199.139 => Desvio-padrão: 16.99210637325461\n"
     ]
    }
   ],
   "source": [
    "for i in range(P.shape[1]):\n",
    "    print(f'Número de observações: {OBSERVACOES[i]} => Produtividade Média: {P[0,i]} => Desvio-padrão: {P[1,i]}')"
   ]
  }
 ]
}