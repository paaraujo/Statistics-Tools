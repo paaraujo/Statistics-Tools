{
 "metadata": {
  "language_info": {
   "codemirror_mode": {
    "name": "ipython",
    "version": 3
   },
   "file_extension": ".py",
   "mimetype": "text/x-python",
   "name": "python",
   "nbconvert_exporter": "python",
   "pygments_lexer": "ipython3",
   "version": "3.8.5-final"
  },
  "orig_nbformat": 2,
  "kernelspec": {
   "name": "python3",
   "display_name": "Python 3",
   "language": "python"
  }
 },
 "nbformat": 4,
 "nbformat_minor": 2,
 "cells": [
  {
   "source": [
    "# Análises estatísticas para gestão de processos\n",
    "\n",
    "Este notebook foi desenvolvido por [Paulo Araujo](mailto:paulo@visiumlabs.com.br) e tem por objetivo demonstrar a diferença de se trabalhar com diferentes tamanhos de amostra quando estamos modelando digitalmente um sistema a fim de se realizar análises estratégicas do mesmo."
   ],
   "cell_type": "markdown",
   "metadata": {}
  },
  {
   "source": [
    "## Pacotes do Python\n",
    "\n",
    "Neste exemplo utilizaremos a biblioteca [Numpy](https://numpy.org) para geração de números aleatórios e cálculos estatísticos."
   ],
   "cell_type": "markdown",
   "metadata": {}
  },
  {
   "cell_type": "code",
   "execution_count": 5,
   "metadata": {},
   "outputs": [],
   "source": [
    "import numpy as np"
   ]
  },
  {
   "source": [
    "Vamos fixar a semente do algoritmo de geração de números aleatórios para tornar o código reproduzível."
   ],
   "cell_type": "markdown",
   "metadata": {}
  },
  {
   "cell_type": "code",
   "execution_count": 6,
   "metadata": {},
   "outputs": [],
   "source": [
    "np.random.seed(0)"
   ]
  },
  {
   "source": [
    "Definindo algumas variáveis de controle do processo."
   ],
   "cell_type": "markdown",
   "metadata": {}
  },
  {
   "cell_type": "code",
   "execution_count": 7,
   "metadata": {},
   "outputs": [],
   "source": [
    "HORAS = 24 * 30\n",
    "AMOSTRAS = [3,20,100,500]\n",
    "MEDIA = 0.1\n",
    "DESVP = 0.02\n",
    "LIM_INF = 0.02\n",
    "LIM_SUP = 0.18"
   ]
  },
  {
   "source": [
    "Vamos considerar os seguintes cenários a respeito da quantidade de dados coletados pelos engenheiros de processo da linha em questão:\n",
    "+ 3\n",
    "+ 20\n",
    "+ 100\n",
    "+ 200\n",
    "\n",
    "Vamos supor que o processo se comporta como uma distribuiçâo Normal."
   ],
   "cell_type": "markdown",
   "metadata": {}
  },
  {
   "cell_type": "code",
   "execution_count": 8,
   "metadata": {},
   "outputs": [
    {
     "output_type": "stream",
     "name": "stdout",
     "text": [
      "Tamanho da amostra: 3 => Tempo médio: 0.12095298358960417 => Produtividade: 5952.0\nTamanho da amostra: 20 => Tempo médio: 0.10720880929893786 => Produtividade: 6715.0\nTamanho da amostra: 100 => Tempo médio: 0.10102738312217398 => Produtividade: 7126.0\nTamanho da amostra: 500 => Tempo médio: 0.09779203999389989 => Produtividade: 7362.0\n"
     ]
    }
   ],
   "source": [
    "for i,amostra in enumerate(AMOSTRAS):\n",
    "    s = np.random.normal(MEDIA,DESVP,(amostra,))\n",
    "    # Procedimento para garantir que apenas tempos\n",
    "    # dentro de um intervalo pré-definido\n",
    "    c = np.logical_and(s >= LIM_INF, s <= LIM_SUP)\n",
    "    while not np.all(c):\n",
    "        d = c.shape[0] - np.count_nonzero(c)\n",
    "        s[c == False] = np.random.normal(0.1,0.02,(d,))\n",
    "    # Calculando o valor médio da amostragem\n",
    "    media = s.mean()\n",
    "    # Calculando a produtividade\n",
    "    prod = HORAS // media\n",
    "    # Imprimindo o resultado\n",
    "    print(f'Tamanho da amostra: {amostra} => Tempo médio: {media} => Produtividade: {prod}')"
   ]
  }
 ]
}